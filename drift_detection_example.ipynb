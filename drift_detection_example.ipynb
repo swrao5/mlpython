{
 "cells": [
  {
   "cell_type": "markdown",
   "metadata": {},
   "source": [
    "First, we must import the TabularDrift detector from the alibi-detect package, as well\n",
    "as the relevant packages for loading and splitting the data:"
   ]
  },
  {
   "cell_type": "code",
   "execution_count": 2,
   "metadata": {},
   "outputs": [
    {
     "name": "stderr",
     "output_type": "stream",
     "text": [
      "c:\\Users\\raosw\\Anaconda3\\Lib\\site-packages\\paramiko\\transport.py:219: CryptographyDeprecationWarning: Blowfish has been deprecated\n",
      "  \"class\": algorithms.Blowfish,\n",
      "None of PyTorch, TensorFlow >= 2.0, or Flax have been found. Models won't be available and only tokenizers, configuration and file/data utilities can be used.\n"
     ]
    }
   ],
   "source": [
    "from sklearn.datasets import load_wine\n",
    "from sklearn.model_selection import train_test_split\n",
    "import alibi\n",
    "from alibi_detect.cd import TabularDrift"
   ]
  },
  {
   "cell_type": "markdown",
   "metadata": {},
   "source": [
    "Next, we must get and split the data:"
   ]
  },
  {
   "cell_type": "code",
   "execution_count": 3,
   "metadata": {},
   "outputs": [],
   "source": [
    "wine_data = load_wine()\n",
    "feature_names = wine_data.feature_names\n",
    "X, y = wine_data.data, wine_data.target\n",
    "X_ref, X_test, y_ref, y_test = train_test_split(X, y, test_size=0.50,\n",
    "random_state=42)"
   ]
  },
  {
   "cell_type": "markdown",
   "metadata": {},
   "source": [
    "## Detecting Data Drift"
   ]
  },
  {
   "cell_type": "markdown",
   "metadata": {},
   "source": [
    "Next, we must initialize our drift detector using the reference data and by providing the\n",
    "p-value we want to be used by the statistical significance tests. If you want to make your\n",
    "drift detector trigger when smaller differences occur in the data distribution, you must\n",
    "select a larger p_val:"
   ]
  },
  {
   "cell_type": "code",
   "execution_count": 4,
   "metadata": {},
   "outputs": [
    {
     "name": "stderr",
     "output_type": "stream",
     "text": [
      "c:\\Users\\raosw\\Anaconda3\\Lib\\site-packages\\alibi_detect\\cd\\tabular.py:113: UserWarning: No `categories_per_feature` dict provided so all features are assumed to be numerical. `KSDrift` will be applied to all features.\n",
      "  warnings.warn('No `categories_per_feature` dict provided so all features are assumed to be numerical. '\n"
     ]
    }
   ],
   "source": [
    "cd = TabularDrift(x_ref=X_ref, p_val=0.05)"
   ]
  },
  {
   "cell_type": "markdown",
   "metadata": {},
   "source": [
    "We can now check for drift in the test dataset against the reference dataset:"
   ]
  },
  {
   "cell_type": "code",
   "execution_count": 5,
   "metadata": {},
   "outputs": [
    {
     "name": "stdout",
     "output_type": "stream",
     "text": [
      "Drift: No\n"
     ]
    }
   ],
   "source": [
    "preds = cd.predict(X_test)\n",
    "labels = ['No', 'Yes']\n",
    "print('Drift: {}'.format(labels[preds['data']['is_drift']]))"
   ]
  },
  {
   "cell_type": "markdown",
   "metadata": {},
   "source": [
    "Although there was no drift in this case, we can easily simulate a scenario where the\n",
    "chemical apparatus being used for measuring the chemical properties experienced a\n",
    "calibration error, and all the values are recorded as 10% higher than their true values. In\n",
    "this case, if we run drift detection again on the same reference dataset, we will get the\n",
    "following output:"
   ]
  },
  {
   "cell_type": "code",
   "execution_count": 6,
   "metadata": {},
   "outputs": [
    {
     "name": "stdout",
     "output_type": "stream",
     "text": [
      "Drift: Yes\n"
     ]
    }
   ],
   "source": [
    "X_test_error = X_test * 1.07\n",
    "preds = cd.predict(X_test_error)\n",
    "labels = ['No', 'Yes']\n",
    "print('Drift: {}'.format(labels[preds['data']['is_drift']]))"
   ]
  },
  {
   "cell_type": "markdown",
   "metadata": {},
   "source": [
    "This returns 'Drift: Yes', showing that the drift has been successfully detected."
   ]
  },
  {
   "cell_type": "markdown",
   "metadata": {},
   "source": [
    "The first drift detection example was very simple and showed us how to detect a basic case of\n",
    "one-off data drift, specifically feature drift. We will now show an example of detecting label drift,\n",
    "which is basically the same but now we simply use the labels as the reference and comparison\n",
    "dataset"
   ]
  },
  {
   "cell_type": "markdown",
   "metadata": {},
   "source": [
    "we will use the initial label as our baseline dataset:"
   ]
  },
  {
   "cell_type": "code",
   "execution_count": 8,
   "metadata": {},
   "outputs": [
    {
     "name": "stderr",
     "output_type": "stream",
     "text": [
      "c:\\Users\\raosw\\Anaconda3\\Lib\\site-packages\\alibi_detect\\cd\\tabular.py:113: UserWarning: No `categories_per_feature` dict provided so all features are assumed to be numerical. `KSDrift` will be applied to all features.\n",
      "  warnings.warn('No `categories_per_feature` dict provided so all features are assumed to be numerical. '\n"
     ]
    }
   ],
   "source": [
    "cd = TabularDrift(x_ref = y_ref, p_val=0.05)"
   ]
  },
  {
   "cell_type": "code",
   "execution_count": 9,
   "metadata": {},
   "outputs": [
    {
     "name": "stdout",
     "output_type": "stream",
     "text": [
      "Drift: No\n"
     ]
    }
   ],
   "source": [
    "preds = cd.predict(y_test)\n",
    "labels = ['No', 'Yes']\n",
    "print('Drift: {}'.format(labels[preds['data']['is_drift']]))"
   ]
  },
  {
   "cell_type": "markdown",
   "metadata": {},
   "source": [
    "This can also be used as a sanity check to validate if the training and test data following the same distribution and our sampling test data is representative"
   ]
  },
  {
   "cell_type": "code",
   "execution_count": 10,
   "metadata": {},
   "outputs": [
    {
     "name": "stdout",
     "output_type": "stream",
     "text": [
      "Drift: Yes\n"
     ]
    }
   ],
   "source": [
    "preds = cd.predict(y_test*1.07)\n",
    "labels = ['No', 'Yes']\n",
    "print('Drift: {}'.format(labels[preds['data']['is_drift']]))"
   ]
  },
  {
   "cell_type": "markdown",
   "metadata": {},
   "source": [
    "## Detecting Concept Drift"
   ]
  },
  {
   "cell_type": "markdown",
   "metadata": {},
   "source": [
    "The alibi_detect package, which we have already been using, has several useful methods for\n",
    "online drift detection that can be used to find concept drift as it happens and impacts model\n",
    "performance. Online here refers to the fact that the drift detection takes place at the level of a\n",
    "single data point, so this can happen even if data comes in completely sequentially in production."
   ]
  },
  {
   "cell_type": "markdown",
   "metadata": {},
   "source": [
    "As an example, let us walk through an example of creating and using one of these online detectors,\n",
    "the Online Maximum Mean Discrepancy method. The following example assumes that in addition\n",
    "to the reference dataset, X_ref, we have also defined variables for the expected run time, ert,\n",
    "and the window size, window_size. The expected run time is a variable that states the average\n",
    "number of data points the detector should run before it raises false positive detection. The idea\n",
    "here is that you want the expected run time to be larger but as it gets larger the detector becomes\n",
    "more insensitive to actual drift, so a balance must be struck. The window_size is the size of the\n",
    "sliding window of data used in order to calculate the appropriate drift test statistic. A smaller\n",
    "window_size means you are tuning the detector to find sharp changes in the data or performance\n",
    "in a small time-frame, whereas longer window sizes will mean you are tuning to look for more\n",
    "subtle drift effects over longer periods of time."
   ]
  },
  {
   "cell_type": "code",
   "execution_count": 18,
   "metadata": {},
   "outputs": [],
   "source": [
    "from alibi_detect.cd import MMDDriftOnline"
   ]
  },
  {
   "cell_type": "code",
   "execution_count": 19,
   "metadata": {},
   "outputs": [
    {
     "ename": "ImportError",
     "evalue": "`Framework.TENSORFLOW` not installed. Cannot initialize and run MMDDriftOnline with tensorflow backend. The necessary missing dependencies can be installed using `pip install alibi-detect[tensorflow]`.",
     "output_type": "error",
     "traceback": [
      "\u001b[1;31m---------------------------------------------------------------------------\u001b[0m",
      "\u001b[1;31mImportError\u001b[0m                               Traceback (most recent call last)",
      "Cell \u001b[1;32mIn[19], line 3\u001b[0m\n\u001b[0;32m      1\u001b[0m ert \u001b[38;5;241m=\u001b[39m \u001b[38;5;241m50\u001b[39m\n\u001b[0;32m      2\u001b[0m window_size \u001b[38;5;241m=\u001b[39m \u001b[38;5;241m10\u001b[39m\n\u001b[1;32m----> 3\u001b[0m cd \u001b[38;5;241m=\u001b[39m MMDDriftOnline(X_ref, ert, window_size, backend\u001b[38;5;241m=\u001b[39m\u001b[38;5;124m'\u001b[39m\u001b[38;5;124mtensorflow\u001b[39m\u001b[38;5;124m'\u001b[39m,\n\u001b[0;32m      4\u001b[0m n_bootstraps\u001b[38;5;241m=\u001b[39m\u001b[38;5;241m2500\u001b[39m)\n",
      "File \u001b[1;32mc:\\Users\\raosw\\Anaconda3\\Lib\\site-packages\\alibi_detect\\cd\\mmd_online.py:83\u001b[0m, in \u001b[0;36mMMDDriftOnline.__init__\u001b[1;34m(self, x_ref, ert, window_size, backend, preprocess_fn, x_ref_preprocessed, kernel, sigma, n_bootstraps, device, verbose, input_shape, data_type)\u001b[0m\n\u001b[0;32m     76\u001b[0m \u001b[38;5;28mself\u001b[39m\u001b[38;5;241m.\u001b[39m_set_config(\u001b[38;5;28mlocals\u001b[39m())\n\u001b[0;32m     78\u001b[0m backend \u001b[38;5;241m=\u001b[39m backend\u001b[38;5;241m.\u001b[39mlower()\n\u001b[0;32m     79\u001b[0m BackendValidator(\n\u001b[0;32m     80\u001b[0m     backend_options\u001b[38;5;241m=\u001b[39m{Framework\u001b[38;5;241m.\u001b[39mTENSORFLOW: [Framework\u001b[38;5;241m.\u001b[39mTENSORFLOW],\n\u001b[0;32m     81\u001b[0m                      Framework\u001b[38;5;241m.\u001b[39mPYTORCH: [Framework\u001b[38;5;241m.\u001b[39mPYTORCH]},\n\u001b[0;32m     82\u001b[0m     construct_name\u001b[38;5;241m=\u001b[39m\u001b[38;5;28mself\u001b[39m\u001b[38;5;241m.\u001b[39m\u001b[38;5;18m__class__\u001b[39m\u001b[38;5;241m.\u001b[39m\u001b[38;5;18m__name__\u001b[39m\n\u001b[1;32m---> 83\u001b[0m )\u001b[38;5;241m.\u001b[39mverify_backend(backend)\n\u001b[0;32m     85\u001b[0m kwargs \u001b[38;5;241m=\u001b[39m \u001b[38;5;28mlocals\u001b[39m()\n\u001b[0;32m     86\u001b[0m args \u001b[38;5;241m=\u001b[39m [kwargs[\u001b[38;5;124m'\u001b[39m\u001b[38;5;124mx_ref\u001b[39m\u001b[38;5;124m'\u001b[39m], kwargs[\u001b[38;5;124m'\u001b[39m\u001b[38;5;124mert\u001b[39m\u001b[38;5;124m'\u001b[39m], kwargs[\u001b[38;5;124m'\u001b[39m\u001b[38;5;124mwindow_size\u001b[39m\u001b[38;5;124m'\u001b[39m]]\n",
      "File \u001b[1;32mc:\\Users\\raosw\\Anaconda3\\Lib\\site-packages\\alibi_detect\\utils\\frameworks.py:103\u001b[0m, in \u001b[0;36mBackendValidator.verify_backend\u001b[1;34m(self, backend)\u001b[0m\n\u001b[0;32m    100\u001b[0m         missing_deps\u001b[38;5;241m.\u001b[39mappend(dependency)\n\u001b[0;32m    102\u001b[0m \u001b[38;5;28;01mif\u001b[39;00m missing_deps:\n\u001b[1;32m--> 103\u001b[0m     \u001b[38;5;28mself\u001b[39m\u001b[38;5;241m.\u001b[39m_raise_import_error(missing_deps, backend)\n",
      "File \u001b[1;32mc:\\Users\\raosw\\Anaconda3\\Lib\\site-packages\\alibi_detect\\utils\\frameworks.py:116\u001b[0m, in \u001b[0;36mBackendValidator._raise_import_error\u001b[1;34m(self, missing_deps, backend)\u001b[0m\n\u001b[0;32m    111\u001b[0m error_msg \u001b[38;5;241m=\u001b[39m (\u001b[38;5;124mf\u001b[39m\u001b[38;5;124m'\u001b[39m\u001b[38;5;132;01m{\u001b[39;00mmissing_deps_str\u001b[38;5;132;01m}\u001b[39;00m\u001b[38;5;124m not installed. Cannot initialize and run \u001b[39m\u001b[38;5;132;01m{\u001b[39;00m\u001b[38;5;28mself\u001b[39m\u001b[38;5;241m.\u001b[39mconstruct_name\u001b[38;5;132;01m}\u001b[39;00m\u001b[38;5;124m \u001b[39m\u001b[38;5;124m'\u001b[39m\n\u001b[0;32m    112\u001b[0m              \u001b[38;5;124mf\u001b[39m\u001b[38;5;124m'\u001b[39m\u001b[38;5;124mwith \u001b[39m\u001b[38;5;132;01m{\u001b[39;00mbackend\u001b[38;5;132;01m}\u001b[39;00m\u001b[38;5;124m backend.\u001b[39m\u001b[38;5;124m'\u001b[39m)\n\u001b[0;32m    113\u001b[0m pip_msg \u001b[38;5;241m=\u001b[39m \u001b[38;5;124m'\u001b[39m\u001b[38;5;124m'\u001b[39m \u001b[38;5;28;01mif\u001b[39;00m \u001b[38;5;129;01mnot\u001b[39;00m optional_dependencies \u001b[38;5;28;01melse\u001b[39;00m \\\n\u001b[0;32m    114\u001b[0m     (\u001b[38;5;124mf\u001b[39m\u001b[38;5;124m'\u001b[39m\u001b[38;5;124mThe necessary missing dependencies can be installed using \u001b[39m\u001b[38;5;124m'\u001b[39m\n\u001b[0;32m    115\u001b[0m      \u001b[38;5;124mf\u001b[39m\u001b[38;5;124m'\u001b[39m\u001b[38;5;124m`pip install alibi-detect[\u001b[39m\u001b[38;5;132;01m{\u001b[39;00m\u001b[38;5;124m\"\u001b[39m\u001b[38;5;124m \u001b[39m\u001b[38;5;124m\"\u001b[39m\u001b[38;5;241m.\u001b[39mjoin(optional_dependencies)\u001b[38;5;132;01m}\u001b[39;00m\u001b[38;5;124m]`.\u001b[39m\u001b[38;5;124m'\u001b[39m)\n\u001b[1;32m--> 116\u001b[0m \u001b[38;5;28;01mraise\u001b[39;00m \u001b[38;5;167;01mImportError\u001b[39;00m(\u001b[38;5;124mf\u001b[39m\u001b[38;5;124m'\u001b[39m\u001b[38;5;132;01m{\u001b[39;00merror_msg\u001b[38;5;132;01m}\u001b[39;00m\u001b[38;5;124m \u001b[39m\u001b[38;5;132;01m{\u001b[39;00mpip_msg\u001b[38;5;132;01m}\u001b[39;00m\u001b[38;5;124m'\u001b[39m)\n",
      "\u001b[1;31mImportError\u001b[0m: `Framework.TENSORFLOW` not installed. Cannot initialize and run MMDDriftOnline with tensorflow backend. The necessary missing dependencies can be installed using `pip install alibi-detect[tensorflow]`."
     ]
    }
   ],
   "source": [
    "ert = 50\n",
    "window_size = 10\n",
    "cd = MMDDriftOnline(X_ref, ert, window_size, backend='tensorflow',\n",
    "n_bootstraps=2500)"
   ]
  }
 ],
 "metadata": {
  "kernelspec": {
   "display_name": "Python 3",
   "language": "python",
   "name": "python3"
  },
  "language_info": {
   "codemirror_mode": {
    "name": "ipython",
    "version": 3
   },
   "file_extension": ".py",
   "mimetype": "text/x-python",
   "name": "python",
   "nbconvert_exporter": "python",
   "pygments_lexer": "ipython3",
   "version": "3.11.4"
  }
 },
 "nbformat": 4,
 "nbformat_minor": 2
}
